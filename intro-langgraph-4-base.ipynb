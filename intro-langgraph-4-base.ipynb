{
 "cells": [
  {
   "cell_type": "markdown",
   "id": "ab168a09",
   "metadata": {},
   "source": [
    "## Exercise\n",
    "\n",
    "### Objective\n",
    "\n",
    "Build a conversational assistant that can interact with a Trello board to manage tasks using LangGraph and LangChain. Your assistant should be able to:\n",
    "\n",
    "- List tasks from the \"To Do\" list.\n",
    "- Add a task to the \"To Do\" list.\n",
    "- Mark a task as \"Done\" if mentioned by the user.\n",
    "\n",
    "You are building the LangGraph workflow (aside from the provided functions). Use [intro-langgraph-3.ipynb](./intro-langgraph-3.ipynb) as a reference.\n",
    "\n",
    "You'll be able to see results in realtime in the Trello board shown in classroom. You can also check [here](https://trello.com/invite/b/682d94d7b1fdae6ee544b3fb/ATTI72b22a3043e7fe210ea59a12e8fd223fC7879CB6/agentic-ai-tasks)."
   ]
  },
  {
   "cell_type": "code",
   "execution_count": 1,
   "id": "e697ea7d",
   "metadata": {},
   "outputs": [
    {
     "data": {
      "text/plain": [
       "True"
      ]
     },
     "execution_count": 1,
     "metadata": {},
     "output_type": "execute_result"
    }
   ],
   "source": [
    "from dotenv import load_dotenv\n",
    "import os\n",
    "import requests\n",
    "\n",
    "load_dotenv()"
   ]
  },
  {
   "cell_type": "code",
   "execution_count": 15,
   "id": "f96395b9",
   "metadata": {},
   "outputs": [],
   "source": [
    "# === TRELLO CONFIG ===\n",
    "BOARD_ID = \"li6KqjnE\"\n",
    "TODO_LIST_NAME = \"To Do\"\n",
    "DONE_LIST_NAME = \"Done\"\n",
    "TRELLO_KEY = os.getenv(\"TRELLO_KEY\")\n",
    "TRELLO_TOKEN = os.getenv(\"TRELLO_TOKEN\")\n",
    "\n",
    "def get_list_id(list_name):\n",
    "    lists = requests.get(\n",
    "        f\"https://api.trello.com/1/boards/{BOARD_ID}/lists?key={TRELLO_KEY}&token={TRELLO_TOKEN}\"\n",
    "    ).json()\n",
    "    return next((l[\"id\"] for l in lists if l[\"name\"] == list_name), None)\n",
    "\n",
    "# === TOOLS ===\n",
    "def fetch_trello_tasks() -> str:\n",
    "    \"\"\"Fetch tasks from Trello 'To Do' list.\"\"\"\n",
    "    list_id = get_list_id(TODO_LIST_NAME)\n",
    "    cards = requests.get(\n",
    "        f\"https://api.trello.com/1/lists/{list_id}/cards?key={TRELLO_KEY}&token={TRELLO_TOKEN}\"\n",
    "    ).json()\n",
    "    return \"\\n\".join(card[\"name\"] for card in cards) if cards else \"No tasks found.\"\n",
    "\n",
    "def mark_task_done(task_name: str) -> str:\n",
    "    \"\"\"Mark a Trello task as done.\"\"\"\n",
    "    list_id = get_list_id(DONE_LIST_NAME)\n",
    "    all_cards = requests.get(\n",
    "        f\"https://api.trello.com/1/boards/{BOARD_ID}/cards?key={TRELLO_KEY}&token={TRELLO_TOKEN}\"\n",
    "    ).json()\n",
    "    card = next((c for c in all_cards if c[\"name\"].lower() in task_name.lower()), None)\n",
    "    if card:\n",
    "        requests.put(\n",
    "            f\"https://api.trello.com/1/cards/{card['id']}?idList={list_id}&key={TRELLO_KEY}&token={TRELLO_TOKEN}\"\n",
    "        )\n",
    "        return f\"Marked '{card['name']}' as done.\"\n",
    "    return f\"Task '{task_name}' not found.\"\n",
    "\n",
    "def add_task(task_name: str) -> str:\n",
    "    \"\"\"Add a new task to Trello 'To Do' list.\"\"\"\n",
    "    list_id = get_list_id(TODO_LIST_NAME)\n",
    "    requests.post(\n",
    "        f\"https://api.trello.com/1/cards?name={task_name}&idList={list_id}&key={TRELLO_KEY}&token={TRELLO_TOKEN}\"\n",
    "    )\n",
    "    return f\"Added task: '{task_name}'.\""
   ]
  },
  {
   "cell_type": "code",
   "execution_count": null,
   "id": "f54eb978",
   "metadata": {},
   "outputs": [],
   "source": [
    "## your code here\n"
   ]
  }
 ],
 "metadata": {
  "kernelspec": {
   "display_name": "env",
   "language": "python",
   "name": "python3"
  },
  "language_info": {
   "codemirror_mode": {
    "name": "ipython",
    "version": 3
   },
   "file_extension": ".py",
   "mimetype": "text/x-python",
   "name": "python",
   "nbconvert_exporter": "python",
   "pygments_lexer": "ipython3",
   "version": "3.11.0"
  }
 },
 "nbformat": 4,
 "nbformat_minor": 5
}
